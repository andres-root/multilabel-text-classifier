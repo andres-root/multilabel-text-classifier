{
 "cells": [
  {
   "cell_type": "code",
   "execution_count": null,
   "metadata": {},
   "outputs": [],
   "source": [
    "import csv\n",
    "from pandas import DataFrame\n",
    "import pandas as pd\n",
    "\n",
    "column = ['Title','Body']\n",
    "dfBA = DataFrame(columns=column)\n",
    "dfT = DataFrame(columns=[0, 1, 2, 3, 4])"
   ]
  },
  {
   "cell_type": "code",
   "execution_count": null,
   "metadata": {},
   "outputs": [],
   "source": [
    "def create_data_frame(data):\n",
    "    t = {}\n",
    "    d = {\n",
    "        'Title': [data[0]],\n",
    "        'Body': [data[1]],\n",
    "    }\n",
    "\n",
    "    for n in range(5):\n",
    "        if len(data[2]) > n:\n",
    "            t[n] = [data[2][n]]\n",
    "        else:\n",
    "            t[n] = ['0']\n",
    "        \n",
    "    df = DataFrame(data=d)\n",
    "\n",
    "    global dfBA, dfT\n",
    "    \n",
    "    dfBA = dfBA.append(df)\n",
    "    dfT = dfT.append(DataFrame(data=t))"
   ]
  },
  {
   "cell_type": "code",
   "execution_count": null,
   "metadata": {},
   "outputs": [],
   "source": [
    "def parser(path):\n",
    "    with open(path) as csv_file:\n",
    "        reader = csv.reader(csv_file, delimiter=',')\n",
    "        tags = []\n",
    "\n",
    "        for row in reader:\n",
    "            tags = tuple([x for x in row[2:-1] if x != ''])\n",
    "            terms = [row[0], row[1], tags]\n",
    "            create_data_frame(terms)"
   ]
  },
  {
   "cell_type": "code",
   "execution_count": null,
   "metadata": {},
   "outputs": [],
   "source": [
    "path = 'data/vzn/TrainingData.csv'\n",
    "parser(path)\n",
    "import pandas as pd\n",
    "df = pd.concat([dfBA, dfT], axis=1)"
   ]
  },
  {
   "cell_type": "code",
   "execution_count": null,
   "metadata": {},
   "outputs": [],
   "source": [
    "print(dfT)"
   ]
  },
  {
   "cell_type": "code",
   "execution_count": null,
   "metadata": {},
   "outputs": [],
   "source": []
  }
 ],
 "metadata": {
  "kernelspec": {
   "display_name": "Python 3",
   "language": "python",
   "name": "python3"
  },
  "language_info": {
   "codemirror_mode": {
    "name": "ipython",
    "version": 3
   },
   "file_extension": ".py",
   "mimetype": "text/x-python",
   "name": "python",
   "nbconvert_exporter": "python",
   "pygments_lexer": "ipython3",
   "version": "3.7.3"
  }
 },
 "nbformat": 4,
 "nbformat_minor": 2
}
